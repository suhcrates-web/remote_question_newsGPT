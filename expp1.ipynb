{
 "cells": [
  {
   "cell_type": "code",
   "execution_count": 12,
   "metadata": {},
   "outputs": [],
   "source": [
    "## db 와 테이블 만들기\n",
    "\n",
    "from database import config\n",
    "import mysql.connector\n",
    "\n",
    "\n",
    "db = mysql.connector.connect(**config)\n",
    "cursor = db.cursor()"
   ]
  },
  {
   "cell_type": "code",
   "execution_count": null,
   "metadata": {},
   "outputs": [],
   "source": []
  },
  {
   "cell_type": "code",
   "execution_count": 16,
   "metadata": {},
   "outputs": [],
   "source": [
    "cursor.execute(\n",
    "    \"\"\"\n",
    "    ALTER TABLE news_gpt.remote_question DISCARD TABLESPACE;\n",
    "    \n",
    "    \"\"\"\n",
    ")\n"
   ]
  },
  {
   "cell_type": "code",
   "execution_count": 17,
   "metadata": {},
   "outputs": [],
   "source": [
    "cursor.execute(\n",
    "    \"\"\"\n",
    "    ALTER TABLE news_gpt.remote_question IMPORT TABLESPACE;\n",
    "    \n",
    "    \"\"\"\n",
    ")"
   ]
  },
  {
   "cell_type": "code",
   "execution_count": 18,
   "metadata": {},
   "outputs": [],
   "source": [
    "cursor.execute(\n",
    "    \"\"\"\n",
    "    ALTER TABLE news_gpt.remote_question\n",
    "    ADD PRIMARY KEY (id0, gid);  \n",
    "    \n",
    "    \"\"\"\n",
    ")"
   ]
  },
  {
   "cell_type": "code",
   "execution_count": 13,
   "metadata": {},
   "outputs": [],
   "source": [
    "cursor.execute(\n",
    "    \"\"\"\n",
    "    drop table news_gpt.news_whole_ana\n",
    "    \"\"\"\n",
    ")"
   ]
  },
  {
   "cell_type": "code",
   "execution_count": 11,
   "metadata": {},
   "outputs": [],
   "source": [
    "cursor.execute(\n",
    "    \"\"\"\n",
    "    create table news_gpt.news_whole_ana(\n",
    "    id0 bigint not null auto_increment,\n",
    "    gid varchar(10),\n",
    "    title varchar(100),\n",
    "    createtime timestamp,\n",
    "    vector mediumblob,\n",
    "    question mediumblob,\n",
    "    checked varchar(1),\n",
    "    primary key (id0, gid)\n",
    "    )\n",
    "    \"\"\"\n",
    ")"
   ]
  },
  {
   "cell_type": "code",
   "execution_count": 15,
   "metadata": {},
   "outputs": [],
   "source": [
    "cursor.execute(\n",
    "    \"\"\"\n",
    "    create table news_gpt.remote_question(\n",
    "    id0 bigint not null,\n",
    "    gid varchar(10) not null,\n",
    "    title varchar(100),\n",
    "    createtime timestamp,\n",
    "    vector mediumblob,\n",
    "    question mediumblob,\n",
    "    checked varchar(1)\n",
    "    )\n",
    "    \"\"\"\n",
    ")"
   ]
  },
  {
   "cell_type": "code",
   "execution_count": 4,
   "metadata": {},
   "outputs": [],
   "source": [
    "cursor.execute(\n",
    "\n",
    "    \"\"\"\n",
    "    create table news_gpt.remote_question\n",
    "    select * from news_gpt.news_ago_backup limit 1000;\n",
    "    \"\"\"\n",
    ")\n",
    "\n",
    "cursor.execute(\n",
    "\n",
    "    \"\"\"\n",
    "    alter table news_gpt.remote_question \n",
    "    drop url,\n",
    "    drop thumburl,\n",
    "    drop length,\n",
    "    add id0 bigint,\n",
    "    add proper_noun mediumblob,\n",
    "    add questions mediumblob,\n",
    "    add checked varchar(1)\n",
    "    \"\"\"\n",
    ")\n",
    "db.commit()"
   ]
  },
  {
   "cell_type": "code",
   "execution_count": null,
   "metadata": {},
   "outputs": [],
   "source": [
    "cursor.execute(\n",
    "\n",
    "    \"\"\"\n",
    "    alter table news_gpt.remote_question \n",
    "    drop url,\n",
    "    drop thumburl,\n",
    "    drop length,\n",
    "    add id0 bigint,\n",
    "    add proper_noun mediumblob,\n",
    "    add questions mediumblob,\n",
    "    add checked varchar(1)\n",
    "    \"\"\"\n",
    ")\n",
    "db.commit()"
   ]
  },
  {
   "cell_type": "code",
   "execution_count": 3,
   "metadata": {},
   "outputs": [],
   "source": [
    "cursor.execute(\n",
    "\n",
    "    \"\"\"\n",
    "    alter table news_gpt.remote_question \n",
    "    drop checked\n",
    "    \"\"\"\n",
    ")\n",
    "db.commit()\n",
    "\n"
   ]
  },
  {
   "cell_type": "code",
   "execution_count": null,
   "metadata": {},
   "outputs": [],
   "source": [
    "cursor.execute(\n",
    "\n",
    "    \"\"\"\n",
    "    alter table news_gpt.remote_question \n",
    "    add checked varchar(1)\n",
    "    \"\"\"\n",
    ")\n",
    "db.commit()"
   ]
  },
  {
   "cell_type": "code",
   "execution_count": null,
   "metadata": {},
   "outputs": [],
   "source": []
  },
  {
   "cell_type": "code",
   "execution_count": null,
   "metadata": {},
   "outputs": [],
   "source": []
  },
  {
   "cell_type": "code",
   "execution_count": null,
   "metadata": {},
   "outputs": [],
   "source": []
  }
 ],
 "metadata": {
  "kernelspec": {
   "display_name": "Python 3",
   "language": "python",
   "name": "python3"
  },
  "language_info": {
   "codemirror_mode": {
    "name": "ipython",
    "version": 3
   },
   "file_extension": ".py",
   "mimetype": "text/x-python",
   "name": "python",
   "nbconvert_exporter": "python",
   "pygments_lexer": "ipython3",
   "version": "3.11.2"
  },
  "orig_nbformat": 4
 },
 "nbformat": 4,
 "nbformat_minor": 2
}
