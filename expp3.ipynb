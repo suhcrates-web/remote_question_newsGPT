{
 "cells": [
  {
   "cell_type": "code",
   "execution_count": 2,
   "metadata": {},
   "outputs": [],
   "source": [
    "import mysql.connector\n",
    "\n",
    "config = {\n",
    "    'user' : 'user',\n",
    "    'password': 'seoseoseo7',\n",
    "    'host':'newsgpt-db.c7ollyuhr7jt.ap-northeast-2.rds.amazonaws.com',\n",
    "    # 'database':'shit',\n",
    "    'port':'3306'\n",
    "}\n",
    "\n",
    "db2 = mysql.connector.connect(**config)\n",
    "cursor2 = db2.cursor()"
   ]
  },
  {
   "cell_type": "code",
   "execution_count": 3,
   "metadata": {},
   "outputs": [],
   "source": [
    "cursor2.execute(\n",
    "    \"\"\"\n",
    "    create database test\n",
    "    \"\"\"\n",
    ")"
   ]
  },
  {
   "attachments": {},
   "cell_type": "markdown",
   "metadata": {},
   "source": [
    "cursor2.execute(\n",
    "    \"\"\"\n",
    "    create database test\n",
    "    \"\"\"\n",
    ")"
   ]
  }
 ],
 "metadata": {
  "kernelspec": {
   "display_name": "Python 3",
   "language": "python",
   "name": "python3"
  },
  "language_info": {
   "codemirror_mode": {
    "name": "ipython",
    "version": 3
   },
   "file_extension": ".py",
   "mimetype": "text/x-python",
   "name": "python",
   "nbconvert_exporter": "python",
   "pygments_lexer": "ipython3",
   "version": "3.11.2"
  },
  "orig_nbformat": 4
 },
 "nbformat": 4,
 "nbformat_minor": 2
}
